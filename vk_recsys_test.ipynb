{
  "nbformat": 4,
  "nbformat_minor": 0,
  "metadata": {
    "colab": {
      "provenance": []
    },
    "kernelspec": {
      "name": "python3",
      "display_name": "Python 3"
    },
    "language_info": {
      "name": "python"
    }
  },
  "cells": [
    {
      "cell_type": "code",
      "execution_count": 1,
      "metadata": {
        "colab": {
          "base_uri": "https://localhost:8080/"
        },
        "id": "wwgDgsk42Ry1",
        "outputId": "bb00a339-9126-4b19-e4af-fba8d85c05b4"
      },
      "outputs": [
        {
          "output_type": "stream",
          "name": "stdout",
          "text": [
            "Mounted at /content/gdrive/\n"
          ]
        }
      ],
      "source": [
        "from google.colab import drive\n",
        "drive.mount('/content/gdrive/')"
      ]
    },
    {
      "cell_type": "code",
      "source": [
        "!pip install catboost optuna shap -q"
      ],
      "metadata": {
        "colab": {
          "base_uri": "https://localhost:8080/"
        },
        "id": "h0voS4ZM2vub",
        "outputId": "c9842b11-3140-48e8-dc5b-83b5cc70aabf"
      },
      "execution_count": 3,
      "outputs": [
        {
          "output_type": "stream",
          "name": "stdout",
          "text": [
            "\u001b[2K     \u001b[90m━━━━━━━━━━━━━━━━━━━━━━━━━━━━━━━━━━━━━━━━\u001b[0m \u001b[32m98.5/98.5 MB\u001b[0m \u001b[31m6.8 MB/s\u001b[0m eta \u001b[36m0:00:00\u001b[0m\n",
            "\u001b[2K     \u001b[90m━━━━━━━━━━━━━━━━━━━━━━━━━━━━━━━━━━━━━━━━\u001b[0m \u001b[32m413.4/413.4 kB\u001b[0m \u001b[31m22.0 MB/s\u001b[0m eta \u001b[36m0:00:00\u001b[0m\n",
            "\u001b[2K     \u001b[90m━━━━━━━━━━━━━━━━━━━━━━━━━━━━━━━━━━━━━━━━\u001b[0m \u001b[32m538.2/538.2 kB\u001b[0m \u001b[31m26.3 MB/s\u001b[0m eta \u001b[36m0:00:00\u001b[0m\n",
            "\u001b[2K     \u001b[90m━━━━━━━━━━━━━━━━━━━━━━━━━━━━━━━━━━━━━━━━\u001b[0m \u001b[32m233.4/233.4 kB\u001b[0m \u001b[31m15.4 MB/s\u001b[0m eta \u001b[36m0:00:00\u001b[0m\n",
            "\u001b[2K     \u001b[90m━━━━━━━━━━━━━━━━━━━━━━━━━━━━━━━━━━━━━━━━\u001b[0m \u001b[32m78.7/78.7 kB\u001b[0m \u001b[31m5.0 MB/s\u001b[0m eta \u001b[36m0:00:00\u001b[0m\n",
            "\u001b[?25h"
          ]
        }
      ]
    },
    {
      "cell_type": "code",
      "source": [
        "import numpy as np\n",
        "import pandas as pd\n",
        "from catboost import CatBoostClassifier, Pool\n",
        "from sklearn.model_selection import train_test_split\n",
        "import shap\n",
        "import matplotlib.pyplot as plt\n",
        "import seaborn\n",
        "import optuna\n",
        "from sklearn.metrics import ndcg_score"
      ],
      "metadata": {
        "id": "uUA4mXLt2ueo"
      },
      "execution_count": 346,
      "outputs": []
    },
    {
      "cell_type": "code",
      "source": [
        "train_df = pd.read_csv('/content/gdrive/MyDrive/data/train_df.csv')\n",
        "test_df = pd.read_csv('/content/gdrive/MyDrive/data/test_df.csv')"
      ],
      "metadata": {
        "id": "-3i-0_HD272t"
      },
      "execution_count": 347,
      "outputs": []
    },
    {
      "cell_type": "markdown",
      "source": [
        "## EDA и препроцессинг\n",
        "* удалим дубликаты\n",
        "* проверим есть ли пропуски\n",
        "* проверим датасет на наличие константных фичей\n",
        "* удалим `target` и `search_id`"
      ],
      "metadata": {
        "id": "vJ14oqbaKVAd"
      }
    },
    {
      "cell_type": "code",
      "source": [
        "train_df.shape"
      ],
      "metadata": {
        "colab": {
          "base_uri": "https://localhost:8080/"
        },
        "id": "wi5mztbOu0eN",
        "outputId": "5edd4336-b605-417b-bce8-05cdf7db9393"
      },
      "execution_count": 348,
      "outputs": [
        {
          "output_type": "execute_result",
          "data": {
            "text/plain": [
              "(15081, 81)"
            ]
          },
          "metadata": {},
          "execution_count": 348
        }
      ]
    },
    {
      "cell_type": "code",
      "source": [
        "train_df.drop_duplicates(inplace=True)\n",
        "test_df.drop_duplicates(inplace=True)"
      ],
      "metadata": {
        "id": "nHyoWT6E3HwU"
      },
      "execution_count": 349,
      "outputs": []
    },
    {
      "cell_type": "code",
      "source": [
        "train_df.isna().sum().sum()"
      ],
      "metadata": {
        "colab": {
          "base_uri": "https://localhost:8080/"
        },
        "id": "wN1b0VuEMnr6",
        "outputId": "6ee4cf97-a254-47c6-d488-0973b6253000"
      },
      "execution_count": 350,
      "outputs": [
        {
          "output_type": "execute_result",
          "data": {
            "text/plain": [
              "0"
            ]
          },
          "metadata": {},
          "execution_count": 350
        }
      ]
    },
    {
      "cell_type": "code",
      "source": [
        "cols_to_drop = train_df.nunique().index[train_df.nunique() == 1]\n",
        "cols_to_drop_test = test_df.nunique().index[test_df.nunique() == 1]\n",
        "cols_to_drop"
      ],
      "metadata": {
        "colab": {
          "base_uri": "https://localhost:8080/"
        },
        "id": "nP7d0DdqEPO3",
        "outputId": "37ef41b0-0fe6-432e-a89f-0d5ed868e406"
      },
      "execution_count": 351,
      "outputs": [
        {
          "output_type": "execute_result",
          "data": {
            "text/plain": [
              "Index(['feature_0', 'feature_73', 'feature_74', 'feature_75'], dtype='object')"
            ]
          },
          "metadata": {},
          "execution_count": 351
        }
      ]
    },
    {
      "cell_type": "code",
      "source": [
        "train_df.drop(cols_to_drop, axis=1, inplace=True)\n",
        "test_df.drop(cols_to_drop_test, axis=1, inplace=True)"
      ],
      "metadata": {
        "id": "gr4Gg2LpGmzo"
      },
      "execution_count": 352,
      "outputs": []
    },
    {
      "cell_type": "markdown",
      "source": [
        "Найдем отношение класса `0` к классу `1`"
      ],
      "metadata": {
        "id": "pcDwMHJdLPCB"
      }
    },
    {
      "cell_type": "code",
      "source": [
        "disbalance_coef = len(train_df[train_df['target'] == 0]) / len(train_df[train_df['target'] == 1])\n",
        "disbalance_coef"
      ],
      "metadata": {
        "colab": {
          "base_uri": "https://localhost:8080/"
        },
        "id": "1WB04_ZECufi",
        "outputId": "72b43aee-0d5a-4b00-acad-9a2c2abb024a"
      },
      "execution_count": 353,
      "outputs": [
        {
          "output_type": "execute_result",
          "data": {
            "text/plain": [
              "45.798136645962735"
            ]
          },
          "metadata": {},
          "execution_count": 353
        }
      ]
    },
    {
      "cell_type": "code",
      "source": [
        "train_df.drop(['search_id'], axis=1, inplace=True)\n",
        "train_data = train_df.drop(['target'], axis=1)\n",
        "target = train_df['target']\n",
        "\n",
        "test = test_df.drop(['search_id', 'target'], axis=1)\n",
        "test_target = test_df['target']"
      ],
      "metadata": {
        "id": "R2CV_gwaN3Vo"
      },
      "execution_count": 354,
      "outputs": []
    },
    {
      "cell_type": "markdown",
      "source": [
        "Видим, что в датасете имеется сильный дизбаланс классов. При обучении попробуем домножить коэффициенты меньшего класса на коэффициент отношения классов"
      ],
      "metadata": {
        "id": "K3eqmJqENRti"
      }
    },
    {
      "cell_type": "markdown",
      "source": [
        "## Обучение\n",
        "* будем использовать catboost\n",
        "* посмотрим на важность фичей\n",
        "* попробуем обучить модель без фичей, которые не имеют важности"
      ],
      "metadata": {
        "id": "_pRRT1P3oBfz"
      }
    },
    {
      "cell_type": "code",
      "source": [
        "X_train, X_test, y_train, y_test = train_test_split(train_data, target, test_size=0.2, random_state=42)"
      ],
      "metadata": {
        "id": "JBf5dcMxNRE2"
      },
      "execution_count": 355,
      "outputs": []
    },
    {
      "cell_type": "code",
      "source": [
        "def train(params):\n",
        "    model = CatBoostClassifier(**params)\n",
        "\n",
        "    model.fit(\n",
        "        X_train, y_train,\n",
        "        eval_set = (X_test, y_test),\n",
        "        verbose=50,\n",
        "        early_stopping_rounds=30\n",
        "    )\n",
        "\n",
        "    return model"
      ],
      "metadata": {
        "id": "HlqfkYfZNNMV"
      },
      "execution_count": 356,
      "outputs": []
    },
    {
      "cell_type": "code",
      "source": [
        "params = {\n",
        "    'iterations': 400,\n",
        "    'learning_rate': 0.01,\n",
        "    'auto_class_weights': 'SqrtBalanced',\n",
        "    # 'scale_pos_weight': disbalance_coef,\n",
        "    'depth': 4,\n",
        "    'random_state': 42\n",
        "}\n",
        "\n",
        "model = train(params)\n",
        "\n",
        "predictions = model.predict_proba(X_test)[:, 1]\n",
        "ndcg_score([y_test.values], [predictions])"
      ],
      "metadata": {
        "colab": {
          "base_uri": "https://localhost:8080/"
        },
        "id": "KR_WPfSbRKTJ",
        "outputId": "76a959fe-7ad6-4285-93af-1db89d76739c"
      },
      "execution_count": 360,
      "outputs": [
        {
          "output_type": "stream",
          "name": "stdout",
          "text": [
            "0:\tlearn: 0.6855635\ttest: 0.6856694\tbest: 0.6856694 (0)\ttotal: 9.73ms\tremaining: 3.88s\n",
            "50:\tlearn: 0.4600539\ttest: 0.4706634\tbest: 0.4706634 (50)\ttotal: 544ms\tremaining: 3.72s\n",
            "100:\tlearn: 0.3845500\ttest: 0.4050861\tbest: 0.4050861 (100)\ttotal: 1.09s\tremaining: 3.23s\n",
            "150:\tlearn: 0.3552754\ttest: 0.3853142\tbest: 0.3853142 (150)\ttotal: 1.62s\tremaining: 2.67s\n",
            "200:\tlearn: 0.3408175\ttest: 0.3788586\tbest: 0.3788586 (200)\ttotal: 2.18s\tremaining: 2.16s\n",
            "250:\tlearn: 0.3305693\ttest: 0.3769791\tbest: 0.3769791 (250)\ttotal: 2.7s\tremaining: 1.6s\n",
            "300:\tlearn: 0.3219382\ttest: 0.3769942\tbest: 0.3765682 (273)\ttotal: 3.83s\tremaining: 1.26s\n",
            "Stopped by overfitting detector  (30 iterations wait)\n",
            "\n",
            "bestTest = 0.3765681576\n",
            "bestIteration = 273\n",
            "\n",
            "Shrink model to first 274 iterations.\n"
          ]
        },
        {
          "output_type": "execute_result",
          "data": {
            "text/plain": [
              "0.49711927840325515"
            ]
          },
          "metadata": {},
          "execution_count": 360
        }
      ]
    },
    {
      "cell_type": "markdown",
      "source": [
        "Посмотрим на важность признаков катбуста\n"
      ],
      "metadata": {
        "id": "sLbNfUszn-CV"
      }
    },
    {
      "cell_type": "code",
      "source": [
        "fi = model.get_feature_importance(prettified=True)\n",
        "useless_features = list(fi[fi['Importances'] == 0]['Feature Id'])"
      ],
      "metadata": {
        "id": "Lql3lF85jqB-"
      },
      "execution_count": 362,
      "outputs": []
    },
    {
      "cell_type": "code",
      "source": [
        "train_data = train_df.drop(['target'] + useless_features, axis=1)\n",
        "X_train, X_test, y_train, y_test = train_test_split(train_data, target, test_size=0.2, random_state=42)\n",
        "\n",
        "params = {\n",
        "    'iterations': 400,\n",
        "    'learning_rate': 0.01,\n",
        "    'auto_class_weights': 'SqrtBalanced',\n",
        "    # 'scale_pos_weight': disbalance_coef,\n",
        "    'depth': 4,\n",
        "    'random_state': 42\n",
        "}\n",
        "\n",
        "model = train(params)\n",
        "\n",
        "predictions = model.predict_proba(X_test)[:, 1]\n",
        "ndcg_score([y_test.values], [predictions])"
      ],
      "metadata": {
        "colab": {
          "base_uri": "https://localhost:8080/"
        },
        "id": "08nzHLGFkaF4",
        "outputId": "edf99a33-d4fe-4be3-e7ef-a6ab85274bbd"
      },
      "execution_count": 363,
      "outputs": [
        {
          "output_type": "stream",
          "name": "stdout",
          "text": [
            "0:\tlearn: 0.6855635\ttest: 0.6856694\tbest: 0.6856694 (0)\ttotal: 9.94ms\tremaining: 3.97s\n",
            "50:\tlearn: 0.4600539\ttest: 0.4706634\tbest: 0.4706634 (50)\ttotal: 562ms\tremaining: 3.85s\n",
            "100:\tlearn: 0.3845500\ttest: 0.4050861\tbest: 0.4050861 (100)\ttotal: 1.09s\tremaining: 3.24s\n",
            "150:\tlearn: 0.3552754\ttest: 0.3853142\tbest: 0.3853142 (150)\ttotal: 1.63s\tremaining: 2.69s\n",
            "200:\tlearn: 0.3408175\ttest: 0.3788586\tbest: 0.3788586 (200)\ttotal: 2.18s\tremaining: 2.15s\n",
            "250:\tlearn: 0.3305693\ttest: 0.3769791\tbest: 0.3769791 (250)\ttotal: 2.73s\tremaining: 1.62s\n",
            "300:\tlearn: 0.3219382\ttest: 0.3769942\tbest: 0.3765682 (273)\ttotal: 3.26s\tremaining: 1.07s\n",
            "Stopped by overfitting detector  (30 iterations wait)\n",
            "\n",
            "bestTest = 0.3765681576\n",
            "bestIteration = 273\n",
            "\n",
            "Shrink model to first 274 iterations.\n"
          ]
        },
        {
          "output_type": "execute_result",
          "data": {
            "text/plain": [
              "0.49711927840325515"
            ]
          },
          "metadata": {},
          "execution_count": 363
        }
      ]
    },
    {
      "cell_type": "code",
      "source": [
        "test_pred = model.predict_proba(test)[:, 1]"
      ],
      "metadata": {
        "id": "W6FvnRa-tisZ"
      },
      "execution_count": 364,
      "outputs": []
    },
    {
      "cell_type": "code",
      "source": [
        "ndcg_score([test_target.values], [test_pred])"
      ],
      "metadata": {
        "colab": {
          "base_uri": "https://localhost:8080/"
        },
        "id": "k-6v2pyPuc65",
        "outputId": "7fe5725c-b04a-40d5-9d7b-047226d4e1b3"
      },
      "execution_count": 365,
      "outputs": [
        {
          "output_type": "execute_result",
          "data": {
            "text/plain": [
              "0.5498456162949592"
            ]
          },
          "metadata": {},
          "execution_count": 365
        }
      ]
    }
  ]
}